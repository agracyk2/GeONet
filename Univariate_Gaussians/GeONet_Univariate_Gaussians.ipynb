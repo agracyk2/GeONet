{
  "nbformat": 4,
  "nbformat_minor": 0,
  "metadata": {
    "colab": {
      "provenance": [],
      "gpuType": "T4"
    },
    "kernelspec": {
      "name": "python3",
      "display_name": "Python 3"
    },
    "language_info": {
      "name": "python"
    },
    "accelerator": "GPU"
  },
  "cells": [
    {
      "cell_type": "code",
      "execution_count": null,
      "metadata": {
        "colab": {
          "base_uri": "https://localhost:8080/"
        },
        "id": "uaI3Lx79Rhtp",
        "outputId": "756340a8-505d-41aa-ca12-513b1dd26812"
      },
      "outputs": [
        {
          "output_type": "stream",
          "name": "stdout",
          "text": [
            "Collecting pot\n",
            "  Downloading POT-0.9.1-cp310-cp310-manylinux_2_17_x86_64.manylinux2014_x86_64.whl (789 kB)\n",
            "\u001b[?25l     \u001b[90m━━━━━━━━━━━━━━━━━━━━━━━━━━━━━━━━━━━━━━━━\u001b[0m \u001b[32m0.0/790.0 kB\u001b[0m \u001b[31m?\u001b[0m eta \u001b[36m-:--:--\u001b[0m\r\u001b[2K     \u001b[91m━━━━━━\u001b[0m\u001b[90m╺\u001b[0m\u001b[90m━━━━━━━━━━━━━━━━━━━━━━━━━━━━━━━━\u001b[0m \u001b[32m122.9/790.0 kB\u001b[0m \u001b[31m3.5 MB/s\u001b[0m eta \u001b[36m0:00:01\u001b[0m\r\u001b[2K     \u001b[91m━━━━━━━━━━━━━━━━━━━━━━━━━━━━━━━━━━━━━\u001b[0m\u001b[91m╸\u001b[0m \u001b[32m788.5/790.0 kB\u001b[0m \u001b[31m13.0 MB/s\u001b[0m eta \u001b[36m0:00:01\u001b[0m\r\u001b[2K     \u001b[90m━━━━━━━━━━━━━━━━━━━━━━━━━━━━━━━━━━━━━━\u001b[0m \u001b[32m790.0/790.0 kB\u001b[0m \u001b[31m11.1 MB/s\u001b[0m eta \u001b[36m0:00:00\u001b[0m\n",
            "\u001b[?25hRequirement already satisfied: numpy>=1.16 in /usr/local/lib/python3.10/dist-packages (from pot) (1.23.5)\n",
            "Requirement already satisfied: scipy>=1.0 in /usr/local/lib/python3.10/dist-packages (from pot) (1.11.2)\n",
            "Installing collected packages: pot\n",
            "Successfully installed pot-0.9.1\n"
          ]
        }
      ],
      "source": [
        "!pip install pot"
      ]
    },
    {
      "cell_type": "code",
      "source": [
        "import sys\n",
        "import torch\n",
        "import torch.nn as nn\n",
        "import torch.optim as optim\n",
        "from torch.nn import functional as F\n",
        "from torch.autograd import Variable\n",
        "import numpy as np;\n",
        "import matplotlib.pyplot as plt\n",
        "from matplotlib.pyplot import figure\n",
        "from matplotlib.colors import LinearSegmentedColormap\n",
        "import math\n",
        "import seaborn as sns\n",
        "import ot\n",
        "from mpl_toolkits.axes_grid1 import AxesGrid\n",
        "\n",
        "device = torch.device(\"cuda:0\" if torch.cuda.is_available() else \"cpu\")"
      ],
      "metadata": {
        "colab": {
          "base_uri": "https://localhost:8080/"
        },
        "id": "hVI-XADgRyul",
        "outputId": "60caa4b6-ed03-467d-c0c0-778b24a55048"
      },
      "execution_count": null,
      "outputs": [
        {
          "output_type": "stream",
          "name": "stderr",
          "text": [
            "/usr/local/lib/python3.10/dist-packages/ot/backend.py:1368: UserWarning: Explicitly requested dtype <class 'jax.numpy.float64'> requested in array is not available, and will be truncated to dtype float32. To enable more dtypes, set the jax_enable_x64 configuration option or the JAX_ENABLE_X64 shell environment variable. See https://github.com/google/jax#current-gotchas for more.\n",
            "  jax.device_put(jnp.array(1, dtype=jnp.float64), d)\n",
            "/usr/local/lib/python3.10/dist-packages/ot/backend.py:2998: UserWarning: To use TensorflowBackend, you need to activate the tensorflow numpy API. You can activate it by running: \n",
            "from tensorflow.python.ops.numpy_ops import np_config\n",
            "np_config.enable_numpy_behavior()\n",
            "  register_backend(TensorflowBackend())\n"
          ]
        }
      ]
    },
    {
      "cell_type": "code",
      "source": [
        "# Create neural network architectures\n",
        "\n",
        "# Define width of neural networks\n",
        "m = 150\n",
        "m2 = 100\n",
        "\n",
        "# Create branch network\n",
        "class Branch(nn.Module):\n",
        "    def __init__(self):\n",
        "        super(Branch, self).__init__()\n",
        "        # Modify neural network input dimension based on mesh size n (currently 100)\n",
        "        self.hidden_U = nn.Linear(100,m, bias=True)\n",
        "        self.hidden_V = nn.Linear(100,m, bias=True)\n",
        "        self.hidden_H_1 = nn.Linear(100,m, bias=True); self.hidden_Z_1 = nn.Linear(m,m, bias=True)\n",
        "        self.hidden_Z_2 = nn.Linear(m,m, bias=True); self.hidden_Z_3 = nn.Linear(m,m, bias=True)\n",
        "        self.hidden_Z_4 = nn.Linear(m,m, bias=True); self.hidden_Z_5 = nn.Linear(m,m, bias=True)\n",
        "        self.hidden_Z_6 = nn.Linear(m,m, bias=True); self.hidden_Z_7 = nn.Linear(m,800, bias=True)\n",
        "\n",
        "\n",
        "    def forward(self, u):\n",
        "        U = F.tanh(self.hidden_U(u)); V = F.tanh(self.hidden_V(u)); H_1 = F.tanh(self.hidden_H_1(u));\n",
        "        Z_1 = F.tanh(self.hidden_Z_1(H_1)); H_2 = (1 - Z_1)*U + Z_1*V\n",
        "        Z_2 = F.tanh(self.hidden_Z_2(H_2)); H_3 = (1 - Z_2)*U + Z_2*V\n",
        "        Z_3 = F.tanh(self.hidden_Z_3(H_3)); H_4 = (1 - Z_3)*U + Z_3*V\n",
        "        Z_4 = F.tanh(self.hidden_Z_4(H_4)); H_5 = (1 - Z_4)*U + Z_4*V\n",
        "        Z_5 = F.tanh(self.hidden_Z_5(H_5)); H_6 = (1 - Z_5)*U + Z_5*V\n",
        "        Z_6 = F.tanh(self.hidden_Z_6(H_6)); H_7 = (1 - Z_6)*U + Z_6*V\n",
        "        Z_7 = self.hidden_Z_7(H_7)\n",
        "        output = Z_7\n",
        "        return output\n",
        "\n",
        "\n",
        "# Create trunk network\n",
        "class Trunk(nn.Module):\n",
        "    def __init__(self):\n",
        "        super(Trunk, self).__init__()\n",
        "        self.hidden_U = nn.Linear(2,m2, bias=True)\n",
        "        self.hidden_V = nn.Linear(2,m2, bias=True)\n",
        "        self.hidden_H_1 = nn.Linear(2,m2, bias=True); self.hidden_Z_1 = nn.Linear(m2,m2, bias=True)\n",
        "        self.hidden_Z_2 = nn.Linear(m2,m2, bias=True); self.hidden_Z_3 = nn.Linear(m2,m2, bias=True)\n",
        "        self.hidden_Z_4 = nn.Linear(m2,m2, bias=True); self.hidden_Z_5 = nn.Linear(m2,m2, bias=True)\n",
        "        self.hidden_Z_6 = nn.Linear(m2,m2, bias=True); self.hidden_Z_7 = nn.Linear(m2,800, bias=True)\n",
        "\n",
        "\n",
        "    def forward(self, x,t):\n",
        "        z = torch.cat((x,t),1)\n",
        "        U = F.tanh(self.hidden_U(z)); V = F.tanh(self.hidden_V(z)); H_1 = F.tanh(self.hidden_H_1(z));\n",
        "        Z_1 = F.tanh(self.hidden_Z_1(H_1)); H_2 = (1 - Z_1)*U + Z_1*V\n",
        "        Z_2 = F.tanh(self.hidden_Z_2(H_2)); H_3 = (1 - Z_2)*U + Z_2*V\n",
        "        Z_3 = F.tanh(self.hidden_Z_3(H_3)); H_4 = (1 - Z_3)*U + Z_3*V\n",
        "        Z_4 = F.tanh(self.hidden_Z_4(H_4)); H_5 = (1 - Z_4)*U + Z_4*V\n",
        "        Z_5 = F.tanh(self.hidden_Z_5(H_5)); H_6 = (1 - Z_5)*U + Z_5*V\n",
        "        Z_6 = F.tanh(self.hidden_Z_6(H_6)); H_7 = (1 - Z_6)*U + Z_6*V\n",
        "        Z_7 = self.hidden_Z_7(H_7)\n",
        "        output = Z_7\n",
        "        return output"
      ],
      "metadata": {
        "id": "iSXnmnkbRy2i"
      },
      "execution_count": null,
      "outputs": []
    },
    {
      "cell_type": "code",
      "source": [
        "# Create neural networks\n",
        "cty_branch0 = Branch().to(device)\n",
        "cty_branch1 = Branch().to(device)\n",
        "cty_trunk = Trunk().to(device)\n",
        "\n",
        "HJ_branch0 = Branch().to(device)\n",
        "HJ_branch1 = Branch().to(device)\n",
        "HJ_trunk = Trunk().to(device)"
      ],
      "metadata": {
        "id": "pWfPqhQJRy6U"
      },
      "execution_count": null,
      "outputs": []
    },
    {
      "cell_type": "code",
      "source": [
        "# Load in pre-trained neural networks from current directory\n",
        "\n",
        "File = \"Cty_branch0.pth\"\n",
        "cty_branch0.load_state_dict(torch.load(File))\n",
        "\n",
        "File = \"Cty_branch1.pth\"\n",
        "cty_branch1.load_state_dict(torch.load(File))\n",
        "\n",
        "File = \"Cty_trunk.pth\"\n",
        "cty_trunk.load_state_dict(torch.load(File))\n",
        "\n",
        "File = \"HJ_branch0.pth\"\n",
        "HJ_branch0.load_state_dict(torch.load(File))\n",
        "\n",
        "File = \"HJ_branch1.pth\"\n",
        "HJ_branch1.load_state_dict(torch.load(File))\n",
        "\n",
        "File = \"HJ_trunk.pth\"\n",
        "HJ_trunk.load_state_dict(torch.load(File))"
      ],
      "metadata": {
        "id": "VLxby2kGUsxZ"
      },
      "execution_count": null,
      "outputs": []
    },
    {
      "cell_type": "code",
      "source": [
        "# Define loss functions\n",
        "mse_cost_function = torch.nn.MSELoss()\n",
        "l1_cost_function = torch.nn.L1Loss()"
      ],
      "metadata": {
        "id": "BfylRabtRy-o"
      },
      "execution_count": null,
      "outputs": []
    },
    {
      "cell_type": "code",
      "source": [
        "# Create optimizer. Choose initial learning rate at 5e-4 and lower periodically\n",
        "optimizer = optim.Adam([\n",
        "    {'params': cty_branch0.parameters()},\n",
        "    {'params': cty_branch1.parameters()},\n",
        "    {'params': cty_trunk.parameters()},\n",
        "    {'params': HJ_branch0.parameters()},\n",
        "    {'params': HJ_branch1.parameters()},\n",
        "    {'params': HJ_trunk.parameters()},\n",
        "], lr=5e-4)"
      ],
      "metadata": {
        "id": "4d33w5I2RzCm"
      },
      "execution_count": null,
      "outputs": []
    },
    {
      "cell_type": "code",
      "source": [
        "# Declare univariate normal density value function\n",
        "def h(x, mu, sigma):\n",
        "  return (1/(sigma*(2*math.pi)**(1/2)))*(math.e)**((-1/2)*((x-mu)**2)/sigma**2)"
      ],
      "metadata": {
        "id": "iPqXCl5KRzGI"
      },
      "execution_count": null,
      "outputs": []
    },
    {
      "cell_type": "code",
      "source": [
        "n = 100 # Mesh size\n",
        "N = 5000 # Number of initial conditions\n",
        "x_min = 0\n",
        "x_max = 10\n",
        "k = 12  # Number of mixtures in u0 and u1 combined\n",
        "c = 1/6 # Constant for each Gaussian in the mixtures\n",
        "\n",
        "X = torch.arange(x_min, x_max, (x_max-x_min)/n).to(device)\n",
        "X_vec = torch.unsqueeze(X,1).to(device)\n",
        "t0 = torch.zeros(size=(n,1)).to(device)\n",
        "t1 = torch.ones(size=(n,1)).to(device)\n",
        "\n",
        "# Create Gaussian mixture data\n",
        "u0 = torch.zeros(size=(N,n))\n",
        "u1 = torch.zeros(size=(N,n))\n",
        "for i in range(N):\n",
        "  Sigma = np.random.uniform(0.5,0.6,k)\n",
        "  means = np.random.uniform(2,8,k)\n",
        "  u0[i,:] = c*h(X, means[0], Sigma[0]) + c*h(X, means[1], Sigma[1]) + c*h(X, means[2], Sigma[2]) + \\\n",
        "            c*h(X, means[3], Sigma[3]) + c*h(X, means[4], Sigma[4]) + c*h(X, means[5], Sigma[5])\n",
        "  u1[i,:] = c*h(X, means[6], Sigma[6]) + c*h(X, means[7], Sigma[7]) + c*h(X, means[8], Sigma[8]) + \\\n",
        "            c*h(X, means[9], Sigma[9]) + c*h(X, means[10], Sigma[10]) + c*h(X, means[11], Sigma[11])\n",
        "\n",
        "\n",
        "u0 = u0.to(device)\n",
        "u1 = u1.to(device)"
      ],
      "metadata": {
        "id": "bw36fLfNRzKF"
      },
      "execution_count": null,
      "outputs": []
    },
    {
      "cell_type": "code",
      "source": [
        "# Plot Gaussian mixture sample\n",
        "I = np.random.randint(0,N,1).squeeze()\n",
        "plt.plot(u0[I,:].cpu().detach().numpy(), color='blue')\n",
        "plt.plot(u1[I,:].cpu().detach().numpy(), color='green')"
      ],
      "metadata": {
        "colab": {
          "base_uri": "https://localhost:8080/",
          "height": 447
        },
        "id": "lawJqz5LRzNe",
        "outputId": "91fc023c-4815-4407-e20b-1f8d596e3a22"
      },
      "execution_count": null,
      "outputs": [
        {
          "output_type": "execute_result",
          "data": {
            "text/plain": [
              "[<matplotlib.lines.Line2D at 0x7c9e02e684f0>]"
            ]
          },
          "metadata": {},
          "execution_count": 16
        },
        {
          "output_type": "display_data",
          "data": {
            "text/plain": [
              "<Figure size 640x480 with 1 Axes>"
            ],
            "image/png": "[encoded data removed]"
          },
          "metadata": {}
        }
      ]
    },
    {
      "cell_type": "code",
      "source": [
        "# Create physics-informed loss function for total loss minimization\n",
        "def physics_informed_loss(x, t, u0, u1, cty_branch0, cty_branch1, cty_trunk, HJ_branch0, HJ_branch1, HJ_trunk):\n",
        "\n",
        "  # Feed in data to continuity neural networks\n",
        "  cty_branch0_output = cty_branch0(u0)\n",
        "  cty_branch1_output = cty_branch1(u1)\n",
        "  cty_trunk_output = cty_trunk(x, t)\n",
        "\n",
        "  # Construct continuity DeepONet with its derivatives\n",
        "  cty = torch.sum( (cty_branch0_output * cty_branch1_output) * cty_trunk_output, dim=1)\n",
        "  cty_x = torch.autograd.grad(cty.sum(), x, create_graph=True)[0]\n",
        "  cty_t = torch.autograd.grad(cty.sum(), t, create_graph=True)[0]\n",
        "  cty = torch.unsqueeze(cty,1)\n",
        "\n",
        "  # Feed in data to Hamilton-Jacobi neural networks\n",
        "  HJ_branch0_output = HJ_branch0(u0)\n",
        "  HJ_branch1_output = HJ_branch1(u1)\n",
        "  HJ_trunk_output = HJ_trunk(x, t)\n",
        "\n",
        "  # Construct HJ DeepONet with its derivatives\n",
        "  HJ = torch.sum( (HJ_branch0_output * HJ_branch1_output) * HJ_trunk_output, dim=1)\n",
        "  HJ_x = torch.autograd.grad(HJ.sum(), x, create_graph=True)[0]\n",
        "  HJ_xx = torch.autograd.grad(HJ_x.sum(), x, create_graph=True)[0]\n",
        "  HJ_t = torch.autograd.grad(HJ.sum(), t, create_graph=True)[0]\n",
        "  HJ = torch.unsqueeze(HJ,1)\n",
        "\n",
        "  # Compute continuity and HJ residuals\n",
        "  cty_loss = (cty_t + cty_x*HJ_x + cty*HJ_xx)**2\n",
        "  HJ_loss = (0.5)*(HJ_t + (1/2)*(HJ_x**2))**2\n",
        "\n",
        "  # Return physics-informed loss\n",
        "  return(cty_loss + HJ_loss)"
      ],
      "metadata": {
        "id": "App1_8aKRzRS"
      },
      "execution_count": null,
      "outputs": []
    },
    {
      "cell_type": "code",
      "source": [
        "# Declare number of training iterations and batch size. Recommended to take batch size at least 1000\n",
        "num_iter = 100000\n",
        "batch_size = 2000\n",
        "\n",
        "# Declare a zero vector for evaluating loss terms\n",
        "T0 = torch.zeros(size=(batch_size,1)).to(device)\n",
        "\n",
        "# Training algorithm\n",
        "for i in range(num_iter):\n",
        "\n",
        "  # Indices for DeepONet evaluation\n",
        "  I = np.random.randint(0,N,batch_size)\n",
        "  J = np.random.randint(0,n,batch_size)\n",
        "\n",
        "  # Collocation procedure\n",
        "  x_unif = Variable(torch.from_numpy(np.random.uniform(x_min,x_max,size=(batch_size,1))).float(), requires_grad=True).to(device)\n",
        "  t_unif = Variable(torch.from_numpy(np.random.uniform(0,1,size=(batch_size,1))).float(), requires_grad=True).to(device)\n",
        "\n",
        "  # Evaluate continuity DeepONets for boundary conditions\n",
        "  cty_branch0_output = cty_branch0(u0[I,:])\n",
        "  cty_branch1_output = cty_branch1(u1[I,:])\n",
        "  cty_trunk_output_0 = cty_trunk(X_vec[J], t0[J])\n",
        "  cty_trunk_output_1 = cty_trunk(X_vec[J], t1[J])\n",
        "\n",
        "  # Boundary loss terms\n",
        "  inner_prod_0 = torch.sum( (cty_branch0_output * cty_branch1_output) * cty_trunk_output_0, dim=1)\n",
        "  inner_prod_1 = torch.sum( (cty_branch0_output * cty_branch1_output) * cty_trunk_output_1, dim=1)\n",
        "  boundary_loss_0 = mse_cost_function(inner_prod_0, u0[I,J])\n",
        "  boundary_loss_1 = mse_cost_function(inner_prod_1, u1[I,J])\n",
        "\n",
        "  # Physics-informed terms\n",
        "  physics_term = physics_informed_loss(x_unif, t_unif, u0[I,:], u1[I,:], cty_branch0, cty_branch1, cty_trunk, HJ_branch0, HJ_branch1, HJ_trunk)\n",
        "  physics_loss = l1_cost_function(physics_term, T0)\n",
        "\n",
        "  # Evaluate the loss\n",
        "  loss = 1*boundary_loss_0  + 1*boundary_loss_1  + 0.5*physics_loss\n",
        "\n",
        "\n",
        "  optimizer.zero_grad()\n",
        "  loss.backward()\n",
        "  optimizer.step()\n",
        "\n",
        "  if i % 100 == 0:\n",
        "    print(\"Training loss:\", '{:.4e}'.format(loss.data), \"- PINN loss:\", '{:.4e}'.format(physics_loss))"
      ],
      "metadata": {
        "id": "WZQCPBPoRzVo"
      },
      "execution_count": null,
      "outputs": []
    },
    {
      "cell_type": "code",
      "source": [
        "# Save newly-trained neural networks to current directory\n",
        "\n",
        "File = \"Cty_branch0.pth\"\n",
        "torch.save(cty_branch0.state_dict(), File)\n",
        "\n",
        "File = \"Cty_branch1.pth\"\n",
        "torch.save(cty_branch1.state_dict(), File)\n",
        "\n",
        "File = \"Cty_trunk.pth\"\n",
        "torch.save(cty_trunk.state_dict(), File)\n",
        "\n",
        "File = \"HJ_branch0.pth\"\n",
        "torch.save(HJ_branch0.state_dict(), File)\n",
        "\n",
        "File = \"HJ_branch1.pth\"\n",
        "torch.save(HJ_branch1.state_dict(), File)\n",
        "\n",
        "File = \"HJ_trunk.pth\"\n",
        "torch.save(HJ_trunk.state_dict(), File)"
      ],
      "metadata": {
        "id": "4O-4-vS5RzaT"
      },
      "execution_count": null,
      "outputs": []
    },
    {
      "cell_type": "code",
      "source": [],
      "metadata": {
        "id": "lHnDsnXpRzeS"
      },
      "execution_count": null,
      "outputs": []
    },
    {
      "cell_type": "code",
      "source": [
        "# Define a heat map plot\n",
        "def heatmap2d(data: np.ndarray):\n",
        "  cmap = LinearSegmentedColormap.from_list('Colormap', [ 'orangered', 'darkorange', 'aquamarine', 'dodgerblue', 'blue'])\n",
        "  fig, (ax) = plt.subplots(1,1, figsize=(4,4))\n",
        "  ax = sns.heatmap(data, ax=ax, cmap=cmap, square=True, cbar=False)\n",
        "\n",
        "  ax.set(xticklabels=[]); ax.set(yticklabels=[]); ax.tick_params(left=False, bottom=False)\n",
        "  plt.savefig(\"heatmap.png\", dpi=300)\n",
        "  plt.show()"
      ],
      "metadata": {
        "id": "aohFp2aYRziO"
      },
      "execution_count": null,
      "outputs": []
    },
    {
      "cell_type": "code",
      "source": [
        "# Create plot for test pairing\n",
        "\n",
        "u_test = torch.zeros(size=(n,n))\n",
        "I = np.random.randint(0,N,1)\n",
        "J = np.random.randint(0,N,1)\n",
        "\n",
        "# Compute GeONet geodesic\n",
        "for i in range(n):\n",
        "  cty_branch0_output_test = cty_branch0(u0[I,:])\n",
        "  cty_branch1_output_test = cty_branch1(u1[J,:])\n",
        "  T_test = 1*(i/(n-1))*torch.ones(size=(n,1)).to(device)\n",
        "  cty_trunk_output_test = cty_trunk(X_vec, T_test)\n",
        "  u_test[:,i] = torch.sum( (cty_branch0_output_test * cty_branch1_output_test) * cty_trunk_output_test, dim=1)\n",
        "\n",
        "heatmap2d(u_test.detach().numpy())"
      ],
      "metadata": {
        "colab": {
          "base_uri": "https://localhost:8080/",
          "height": 345
        },
        "id": "-hOI7bB9Rzmh",
        "outputId": "3c4f8e96-f76d-4cff-ea10-319ea57c97c1"
      },
      "execution_count": null,
      "outputs": [
        {
          "output_type": "display_data",
          "data": {
            "text/plain": [
              "<Figure size 400x400 with 1 Axes>"
            ],
            "image/png": "[encoded data removed]"
          },
          "metadata": {}
        }
      ]
    },
    {
      "cell_type": "code",
      "source": [],
      "metadata": {
        "id": "2Jc_p-K6Rzqq"
      },
      "execution_count": null,
      "outputs": []
    },
    {
      "cell_type": "code",
      "source": [
        "# Pot algorithm for comparison\n",
        "\n",
        "T = n\n",
        "y = np.arange(n, dtype=np.float64)\n",
        "OT = np.zeros(shape=(n,T))\n",
        "\n",
        "# Gaussian distributions\n",
        "a1 = u0[I,:].cpu()\n",
        "a2 = u1[J,:].cpu()\n",
        "\n",
        "A = np.vstack((a1, a2)).T\n",
        "n_distributions = A.shape[1]\n",
        "\n",
        "K = ot.utils.dist0(n)\n",
        "K /= K.max()\n",
        "\n",
        "for t in range(T):\n",
        "  alpha = t/T  # 0<=alpha<=1\n",
        "  weights = np.array([1 - alpha, alpha])\n",
        "\n",
        "  # Wasserstein geodesic computation\n",
        "  reg = 0.0006 # Regularization parameter. Adjust if desired for smoothing\n",
        "  bary_wass = ot.bregman.barycenter(A, K, reg, weights)\n",
        "\n",
        "  OT[:,t] = bary_wass"
      ],
      "metadata": {
        "id": "yN_REWLIRztR"
      },
      "execution_count": null,
      "outputs": []
    },
    {
      "cell_type": "code",
      "source": [
        "heatmap2d(OT)\n",
        "\n",
        "heatmap2d(u_test.detach().numpy())"
      ],
      "metadata": {
        "colab": {
          "base_uri": "https://localhost:8080/",
          "height": 673
        },
        "id": "9lTRz5b5Rzw4",
        "outputId": "d8b57165-01cc-4c43-c50a-a4616eb6f98e"
      },
      "execution_count": null,
      "outputs": [
        {
          "output_type": "display_data",
          "data": {
            "text/plain": [
              "<Figure size 400x400 with 1 Axes>"
            ],
            "image/png": "[encoded data removed]"
          },
          "metadata": {}
        },
        {
          "output_type": "display_data",
          "data": {
            "text/plain": [
              "<Figure size 400x400 with 1 Axes>"
            ],
            "image/png": "[encoded data removed]"
          },
          "metadata": {}
        }
      ]
    },
    {
      "cell_type": "code",
      "source": [],
      "metadata": {
        "id": "dI6pSvZgRz1U"
      },
      "execution_count": null,
      "outputs": []
    }
  ]
}