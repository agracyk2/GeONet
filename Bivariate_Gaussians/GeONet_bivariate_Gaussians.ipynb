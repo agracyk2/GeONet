{
  "nbformat": 4,
  "nbformat_minor": 0,
  "metadata": {
    "colab": {
      "provenance": [],
      "gpuType": "T4"
    },
    "kernelspec": {
      "name": "python3",
      "display_name": "Python 3"
    },
    "language_info": {
      "name": "python"
    },
    "accelerator": "GPU"
  },
  "cells": [
    {
      "cell_type": "code",
      "execution_count": 1,
      "metadata": {
        "colab": {
          "base_uri": "https://localhost:8080/"
        },
        "id": "0brkrkqejnBP",
        "outputId": "9b3a8d5b-5f66-4dc3-b6c0-5f1f5455edb6"
      },
      "outputs": [
        {
          "output_type": "stream",
          "name": "stdout",
          "text": [
            "Collecting pot\n",
            "  Downloading POT-0.9.3-cp310-cp310-manylinux_2_17_x86_64.manylinux2014_x86_64.whl (823 kB)\n",
            "\u001b[2K     \u001b[90m━━━━━━━━━━━━━━━━━━━━━━━━━━━━━━━━━━━━━━━━\u001b[0m \u001b[32m823.0/823.0 kB\u001b[0m \u001b[31m10.1 MB/s\u001b[0m eta \u001b[36m0:00:00\u001b[0m\n",
            "\u001b[?25hRequirement already satisfied: numpy>=1.16 in /usr/local/lib/python3.10/dist-packages (from pot) (1.25.2)\n",
            "Requirement already satisfied: scipy>=1.6 in /usr/local/lib/python3.10/dist-packages (from pot) (1.11.4)\n",
            "Installing collected packages: pot\n",
            "Successfully installed pot-0.9.3\n"
          ]
        }
      ],
      "source": [
        "!pip install pot"
      ]
    },
    {
      "cell_type": "code",
      "source": [
        "import sys\n",
        "import torch\n",
        "import torch.nn as nn\n",
        "import torch.optim as optim\n",
        "from torch.nn import functional as F\n",
        "from torch.autograd import Variable\n",
        "import numpy as np\n",
        "import matplotlib.pyplot as plt\n",
        "from matplotlib.pyplot import figure\n",
        "from matplotlib.colors import LinearSegmentedColormap\n",
        "import math\n",
        "import os\n",
        "import seaborn as sns\n",
        "import ot\n",
        "import random\n",
        "from scipy.stats import multivariate_normal\n",
        "from random import randint\n",
        "from pathlib import Path\n",
        "from mpl_toolkits.axes_grid1 import AxesGrid\n",
        "\n",
        "print(\"Packages:\");\n",
        "print(\"torch.__version__ = \" + str(torch.__version__));\n",
        "print(\"numpy.__version__ = \" + str(np.__version__));\n",
        "device = torch.device(\"cuda:0\" if torch.cuda.is_available() else \"cpu\")"
      ],
      "metadata": {
        "colab": {
          "base_uri": "https://localhost:8080/"
        },
        "id": "ym9XJtylju-t",
        "outputId": "7aa05ff5-fd68-4a17-e36a-8ac9fae7c6b6"
      },
      "execution_count": 8,
      "outputs": [
        {
          "output_type": "stream",
          "name": "stdout",
          "text": [
            "Packages:\n",
            "torch.__version__ = 2.3.0+cu121\n",
            "numpy.__version__ = 1.25.2\n"
          ]
        }
      ]
    },
    {
      "cell_type": "code",
      "source": [],
      "metadata": {
        "id": "0bAR24K-jvB3"
      },
      "execution_count": null,
      "outputs": []
    },
    {
      "cell_type": "code",
      "source": [
        "# Create neural networks\n",
        "\n",
        "# Branch and trunk widths respectively\n",
        "m = 200\n",
        "m2 = 150\n",
        "\n",
        "# Branch network, use modified MLP architecture\n",
        "class Branch_enh(nn.Module):\n",
        "    def __init__(self):\n",
        "        super(Branch_enh, self).__init__()\n",
        "        self.hidden_U = nn.Linear(576,m, bias=True)\n",
        "        self.hidden_V = nn.Linear(576,m, bias=True)\n",
        "        self.hidden_H_1 = nn.Linear(576,m, bias=True); self.hidden_Z_1 = nn.Linear(m,m, bias=True)\n",
        "        self.hidden_Z_2 = nn.Linear(m,m, bias=True); self.hidden_Z_3 = nn.Linear(m,m, bias=True)\n",
        "        self.hidden_Z_4 = nn.Linear(m,m, bias=True); self.hidden_Z_5 = nn.Linear(m,m, bias=True)\n",
        "        self.hidden_Z_6 = nn.Linear(m,m, bias=True); self.hidden_Z_7 = nn.Linear(m,800, bias=True)\n",
        "\n",
        "\n",
        "    def forward(self, u):\n",
        "        U = F.tanh(self.hidden_U(u)); V = F.tanh(self.hidden_V(u)); H_1 = F.tanh(self.hidden_H_1(u));\n",
        "        Z_1 = F.tanh(self.hidden_Z_1(H_1)); H_2 = (1 - Z_1)*U + Z_1*V\n",
        "        Z_2 = F.tanh(self.hidden_Z_2(H_2)); H_3 = (1 - Z_2)*U + Z_2*V\n",
        "        Z_3 = F.tanh(self.hidden_Z_3(H_3)); H_4 = (1 - Z_3)*U + Z_3*V\n",
        "        Z_4 = F.tanh(self.hidden_Z_4(H_4)); H_5 = (1 - Z_4)*U + Z_4*V\n",
        "        Z_5 = F.tanh(self.hidden_Z_5(H_5)); H_6 = (1 - Z_5)*U + Z_5*V\n",
        "        Z_6 = F.tanh(self.hidden_Z_6(H_6)); H_7 = (1 - Z_6)*U + Z_6*V\n",
        "        Z_7 = self.hidden_Z_7(H_7)\n",
        "        output = Z_7\n",
        "        return output\n",
        "\n",
        "# Trunk network, modified MLP architecture\n",
        "class Trunk_enh(nn.Module):\n",
        "    def __init__(self):\n",
        "        super(Trunk_enh, self).__init__()\n",
        "        self.hidden_U = nn.Linear(3,m2, bias=True)\n",
        "        self.hidden_V = nn.Linear(3,m2, bias=True)\n",
        "        self.hidden_H_1 = nn.Linear(3,m2, bias=True); self.hidden_Z_1 = nn.Linear(m2,m2, bias=True)\n",
        "        self.hidden_Z_2 = nn.Linear(m2,m2, bias=True); self.hidden_Z_3 = nn.Linear(m2,m2, bias=True)\n",
        "        self.hidden_Z_4 = nn.Linear(m2,m2, bias=True); self.hidden_Z_5 = nn.Linear(m2,m2, bias=True)\n",
        "        self.hidden_Z_6 = nn.Linear(m2,m2, bias=True); self.hidden_Z_7 = nn.Linear(m2,800, bias=True)\n",
        "\n",
        "\n",
        "    def forward(self, x,y,t):\n",
        "        z = torch.cat((x,y,t),1)\n",
        "        U = F.tanh(self.hidden_U(z)); V = F.tanh(self.hidden_V(z)); H_1 = F.tanh(self.hidden_H_1(z));\n",
        "        Z_1 = F.tanh(self.hidden_Z_1(H_1)); H_2 = (1 - Z_1)*U + Z_1*V\n",
        "        Z_2 = F.tanh(self.hidden_Z_2(H_2)); H_3 = (1 - Z_2)*U + Z_2*V\n",
        "        Z_3 = F.tanh(self.hidden_Z_3(H_3)); H_4 = (1 - Z_3)*U + Z_3*V\n",
        "        Z_4 = F.tanh(self.hidden_Z_4(H_4)); H_5 = (1 - Z_4)*U + Z_4*V\n",
        "        Z_5 = F.tanh(self.hidden_Z_5(H_5)); H_6 = (1 - Z_5)*U + Z_5*V\n",
        "        Z_6 = F.tanh(self.hidden_Z_6(H_6)); H_7 = (1 - Z_6)*U + Z_6*V\n",
        "        Z_7 = self.hidden_Z_7(H_7)\n",
        "        output = Z_7\n",
        "        return output"
      ],
      "metadata": {
        "id": "D1wOGE7hjvFK"
      },
      "execution_count": 46,
      "outputs": []
    },
    {
      "cell_type": "code",
      "source": [
        "# Declare networks\n",
        "cty_branch0 = Branch_enh().to(device)\n",
        "cty_branch1 = Branch_enh().to(device)\n",
        "cty_trunk = Trunk_enh().to(device)\n",
        "\n",
        "HJ_branch0 = Branch_enh().to(device)\n",
        "HJ_branch1 = Branch_enh().to(device)\n",
        "HJ_trunk = Trunk_enh().to(device)"
      ],
      "metadata": {
        "id": "8OOcItRTjvIU"
      },
      "execution_count": 47,
      "outputs": []
    },
    {
      "cell_type": "code",
      "source": [
        "# Create optimizer\n",
        "optimizer = optim.Adam([\n",
        "    {'params': cty_branch0.parameters()},\n",
        "    {'params': cty_branch1.parameters()},\n",
        "    {'params': cty_trunk.parameters()},\n",
        "    {'params': HJ_branch0.parameters()},\n",
        "    {'params': HJ_branch1.parameters()},\n",
        "    {'params': HJ_trunk.parameters()},\n",
        "], lr=3e-5)"
      ],
      "metadata": {
        "id": "F6r7UM-qjvLp"
      },
      "execution_count": null,
      "outputs": []
    },
    {
      "cell_type": "code",
      "source": [
        "# Load saved models if desired\n",
        "\n",
        "File = \"Cty_branch0.pth\"\n",
        "cty_branch0.load_state_dict(torch.load(File))\n",
        "\n",
        "File = \"Cty_branch1.pth\"\n",
        "cty_branch1.load_state_dict(torch.load(File))\n",
        "\n",
        "File = \"Cty_trunk.pth\"\n",
        "cty_trunk.load_state_dict(torch.load(File))\n",
        "\n",
        "File = \"HJ_branch0.pth\"\n",
        "HJ_branch0.load_state_dict(torch.load(File))\n",
        "\n",
        "File = \"HJ_branch1.pth\"\n",
        "HJ_branch1.load_state_dict(torch.load(File))\n",
        "\n",
        "File = \"HJ_trunk.pth\"\n",
        "HJ_trunk.load_state_dict(torch.load(File))"
      ],
      "metadata": {
        "colab": {
          "base_uri": "https://localhost:8080/"
        },
        "id": "wkp7x1RStKXS",
        "outputId": "37e0aa1a-8298-4ad7-d808-281d4f4f51e0"
      },
      "execution_count": 57,
      "outputs": [
        {
          "output_type": "execute_result",
          "data": {
            "text/plain": [
              "<All keys matched successfully>"
            ]
          },
          "metadata": {},
          "execution_count": 57
        }
      ]
    },
    {
      "cell_type": "code",
      "source": [
        "# Define cost functions\n",
        "mse_cost_function = torch.nn.MSELoss()\n",
        "l1_cost_function = torch.nn.L1Loss()"
      ],
      "metadata": {
        "id": "WMNFsiFHs8V_"
      },
      "execution_count": null,
      "outputs": []
    },
    {
      "cell_type": "code",
      "source": [
        "# Prepare domain and data\n",
        "\n",
        "n = 24 # Mesh size in one dimension\n",
        "N = 200 # Number of initial conditions\n",
        "N_g = 2000 # Number of random Gaussians to be sampled\n",
        "x_min = 0\n",
        "x_max = 5\n",
        "y_min = 0\n",
        "y_max = 5\n",
        "K = 24  # Number of mixtures in u0 and u1 combined\n",
        "c = 1/6\n",
        "\n",
        "t0 = torch.zeros(size=(n*n,1)).to(device)\n",
        "t1 = 1*torch.ones(size=(n*n,1)).to(device)\n",
        "\n",
        "x = np.linspace(x_min,x_max, n)\n",
        "y = np.linspace(y_min, y_max, n)\n",
        "X, Y = np.meshgrid(x, y)\n",
        "X_vec = torch.unsqueeze(Variable(torch.from_numpy(X.flatten()), requires_grad=True),1).to(device).to(torch.float32)\n",
        "Y_vec = torch.unsqueeze(Variable(torch.from_numpy(Y.flatten()), requires_grad=True),1).to(device).to(torch.float32)\n",
        "\n",
        "Omega = np.concatenate([X[:,:,None], Y[:,:,None]], axis=-1)"
      ],
      "metadata": {
        "id": "ylp-_Z4LjvO8"
      },
      "execution_count": 22,
      "outputs": []
    },
    {
      "cell_type": "code",
      "source": [
        "Gaussian_sample = np.zeros(shape=(N_g,n,n))\n",
        "\n",
        "for m in range(N_g):\n",
        "\n",
        "  means = np.random.uniform(low=0.8, high=x_max-0.8, size=(2))\n",
        "  variances_1 = np.random.uniform(low=0.35, high=0.4, size=(2))\n",
        "  variances_2 = np.random.uniform(low=0.75, high=0.9, size=(2))\n",
        "  Sigma = np.random.uniform(low=-0.1, high=0.1, size=(2,2))\n",
        "  if m % 2 == 0:\n",
        "    Sigma[0,0] = variances_1[0]\n",
        "    Sigma[1,1] = variances_1[1]\n",
        "  else:\n",
        "    Sigma[0,0] = variances_2[0]\n",
        "    Sigma[1,1] = variances_2[1]\n",
        "\n",
        "\n",
        "  Gaussian_sample[m,:,:] = multivariate_normal.pdf(Omega, mean=means[:], cov=Sigma[:,:])"
      ],
      "metadata": {
        "id": "Q0VWg61UlxuS"
      },
      "execution_count": 24,
      "outputs": []
    },
    {
      "cell_type": "code",
      "source": [
        "# Construct training data\n",
        "\n",
        "# Create training data of vectors of each Gaussian mixture\n",
        "# First dimension is number of training data samples\n",
        "# Second dimension is nxn = grid length x grid length\n",
        "u0 = torch.zeros(size=(N,n*n))\n",
        "u1 = torch.zeros(size=(N,n*n))\n",
        "\n",
        "for m in range(N):\n",
        "\n",
        "  # Initialize a grid to store a mixture\n",
        "  U0 = torch.zeros(size=(n,n))\n",
        "  U1 = torch.zeros(size=(n,n))\n",
        "\n",
        "  # Create mixtures from random Gaussians\n",
        "  for k in range(int(K/2)):\n",
        "    U0 += Gaussian_sample[np.random.randint(0,N_g,1),:,:].squeeze()\n",
        "    U1 += Gaussian_sample[np.random.randint(0,N_g,1),:,:].squeeze()\n",
        "\n",
        "  # Ensure normalized condition\n",
        "  U0 = U0 / ( torch.sum(U0) * ((x_max-x_min)/n)*((y_max-y_min)/n) )\n",
        "  U1 = U1 / ( torch.sum(U1) * ((x_max-x_min)/n)*((y_max-y_min)/n) )\n",
        "\n",
        "  # Flatten for vector input\n",
        "  u0[m,:] = U0.flatten()\n",
        "  u1[m,:] = U1.flatten()\n",
        "\n",
        "\n",
        "u0 = u0.to(device)\n",
        "u1 = u1.to(device)"
      ],
      "metadata": {
        "id": "Cnzu2VEjjvR5"
      },
      "execution_count": 37,
      "outputs": []
    },
    {
      "cell_type": "code",
      "source": [
        "plt.contourf(x,y,U1,20,cmap='turbo')\n",
        "plt.gca().set_axis_off()\n",
        "plt.gca().set_aspect('equal', adjustable='box')"
      ],
      "metadata": {
        "colab": {
          "base_uri": "https://localhost:8080/",
          "height": 406
        },
        "id": "kGkIGKgYjvVf",
        "outputId": "1b2642f1-f73b-41c3-810b-42f34e678c20"
      },
      "execution_count": 38,
      "outputs": [
        {
          "output_type": "display_data",
          "data": {
            "text/plain": [
              "<Figure size 640x480 with 1 Axes>"
            ],
            "image/png": "[encoded data removed]"
          },
          "metadata": {}
        }
      ]
    },
    {
      "cell_type": "code",
      "source": [
        "print(U1.shape)"
      ],
      "metadata": {
        "colab": {
          "base_uri": "https://localhost:8080/"
        },
        "id": "UrhBcsTvjvY1",
        "outputId": "63de9d5c-583e-48f6-d92f-8774e7390972"
      },
      "execution_count": 27,
      "outputs": [
        {
          "output_type": "stream",
          "name": "stdout",
          "text": [
            "torch.Size([1, 24, 24])\n"
          ]
        }
      ]
    },
    {
      "cell_type": "code",
      "source": [],
      "metadata": {
        "id": "Dj4OPxPWjvci"
      },
      "execution_count": null,
      "outputs": []
    },
    {
      "cell_type": "code",
      "source": [
        "# Save training data if needed\n",
        "File = \"u0.pth\"\n",
        "torch.save(u0, File)\n",
        "\n",
        "File = \"u1.pth\"\n",
        "torch.save(u1, File)"
      ],
      "metadata": {
        "id": "rSKekQGDjvgL"
      },
      "execution_count": null,
      "outputs": []
    },
    {
      "cell_type": "code",
      "source": [
        "# Load training data\n",
        "File = \"u0.pth\"\n",
        "u0 = torch.load(File)\n",
        "\n",
        "File = \"u1.pth\"\n",
        "u1 = torch.load(File)"
      ],
      "metadata": {
        "id": "P9lA_8VOjvjR"
      },
      "execution_count": null,
      "outputs": []
    },
    {
      "cell_type": "code",
      "source": [],
      "metadata": {
        "id": "YwQNfNSMjvmd"
      },
      "execution_count": null,
      "outputs": []
    },
    {
      "cell_type": "code",
      "source": [
        "# Define physics-informed loss for continuity and Hamilton-Jacobi (HJ) equations\n",
        "\n",
        "def physics_informed_loss(x, y, t, u0, u1, cty_branch0, cty_branch1, cty_trunk, HJ_branch0, HJ_branch1, HJ_trunk):\n",
        "\n",
        "  # Evaluate continuity neural networks\n",
        "  cty_branch0_output = cty_branch0(u0)\n",
        "  cty_branch1_output = cty_branch1(u1)\n",
        "  cty_trunk_output = cty_trunk(x, y, t)\n",
        "\n",
        "  # Formulate continuity enhanced deep operator network\n",
        "  cty = torch.sum( (cty_branch0_output * cty_branch1_output) * cty_trunk_output, dim=1)\n",
        "\n",
        "  # Formulate continuity derivatives\n",
        "  cty_x = torch.autograd.grad(cty.sum(), x, create_graph=True)[0]\n",
        "  cty_y = torch.autograd.grad(cty.sum(), y, create_graph=True)[0]\n",
        "  cty_t = torch.autograd.grad(cty.sum(), t, create_graph=True)[0]\n",
        "  cty = torch.unsqueeze(cty,1)\n",
        "\n",
        "  # Evaluate HJ neural networks\n",
        "  HJ_branch0_output = HJ_branch0(u0)\n",
        "  HJ_branch1_output = HJ_branch1(u1)\n",
        "  HJ_trunk_output = HJ_trunk(x, y, t)\n",
        "\n",
        "  # Formulate HJ enhanced deep operator network\n",
        "  HJ = torch.sum( (HJ_branch0_output * HJ_branch1_output) * HJ_trunk_output, dim=1)\n",
        "\n",
        "  # Formulate HJ derivarives\n",
        "  HJ_x = torch.autograd.grad(HJ.sum(), x, create_graph=True)[0]\n",
        "  HJ_xx = torch.autograd.grad(HJ_x.sum(), x, create_graph=True)[0]\n",
        "  HJ_y = torch.autograd.grad(HJ.sum(), y, create_graph=True)[0]\n",
        "  HJ_yy = torch.autograd.grad(HJ_y.sum(), y, create_graph=True)[0]\n",
        "  HJ_t = torch.autograd.grad(HJ.sum(), t, create_graph=True)[0]\n",
        "  HJ = torch.unsqueeze(HJ,1)\n",
        "\n",
        "  # Formulate physics-informed losses\n",
        "  cty_loss = (cty_t + cty_x*HJ_x + cty*HJ_xx + cty_y*HJ_y + cty*HJ_yy)**2\n",
        "  HJ_loss = 0.5*(HJ_t + (1/2)*(HJ_x**2 + HJ_y**2))**2\n",
        "\n",
        "  # Return sum. Modify coefficients as desired\n",
        "  return(cty_loss + HJ_loss)"
      ],
      "metadata": {
        "id": "5bhDNmT2jvpo"
      },
      "execution_count": null,
      "outputs": []
    },
    {
      "cell_type": "code",
      "source": [],
      "metadata": {
        "id": "Urx0MBPyjvtB"
      },
      "execution_count": null,
      "outputs": []
    },
    {
      "cell_type": "code",
      "source": [
        "num_iter = 1000000\n",
        "batch_size = 2000\n",
        "\n",
        "T0 = torch.zeros(size=(batch_size,1)).to(device)\n",
        "\n",
        "\n",
        "for i in range(num_iter):\n",
        "\n",
        "  # Randomly select indices for batch\n",
        "  I = np.random.randint(0,N,batch_size)    # index for sample\n",
        "  J = np.random.randint(0,n*n,batch_size)  # index for  (x,y,t)\n",
        "\n",
        "  # Collocation prcoedure. Randomly sample x,y,t\n",
        "  x_unif = Variable(torch.from_numpy(np.random.uniform(x_min,x_max,size=(batch_size,1))).float(), requires_grad=True).to(device)\n",
        "  y_unif = Variable(torch.from_numpy(np.random.uniform(y_min,y_max,size=(batch_size,1))).float(), requires_grad=True).to(device)\n",
        "  t_unif = Variable(torch.from_numpy(np.random.uniform(0,1,size=(batch_size,1))).float(), requires_grad=True).to(device)\n",
        "\n",
        "  # Evaluate continuity equations\n",
        "  cty_branch0_output = cty_branch0(u0[I,:])\n",
        "  cty_branch1_output = cty_branch1(u1[I,:])\n",
        "  cty_trunk_output_0 = cty_trunk(X_vec[J], Y_vec[J], t0[J])\n",
        "  cty_trunk_output_1 = cty_trunk(X_vec[J], Y_vec[J], t1[J])\n",
        "\n",
        "  # Formulate enhanced deep operator network output\n",
        "  inner_prod_0 = torch.sum( (cty_branch0_output * cty_branch1_output) * cty_trunk_output_0, dim=1)\n",
        "  inner_prod_1 = torch.sum( (cty_branch0_output * cty_branch1_output) * cty_trunk_output_1, dim=1)\n",
        "\n",
        "  # Formulate boundary loss\n",
        "  boundary_loss_0 = mse_cost_function(inner_prod_0, u0[I,J])\n",
        "  boundary_loss_1 = mse_cost_function(inner_prod_1, u1[I,J])\n",
        "\n",
        "  # Evaluate physics-informed loss\n",
        "  physics_term = physics_informed_loss(x_unif, y_unif, t_unif, u0[I,:], u1[I,:], cty_branch0, cty_branch1, cty_trunk, HJ_branch0, HJ_branch1, HJ_trunk)\n",
        "  physics_loss = l1_cost_function(physics_term, T0)\n",
        "\n",
        "  # Total loss. Modify coefficients as desired\n",
        "  loss = 1*boundary_loss_0  + 1*boundary_loss_1  +  0.5*physics_loss\n",
        "\n",
        "\n",
        "  optimizer.zero_grad()\n",
        "\n",
        "  loss.backward()\n",
        "\n",
        "  optimizer.step()\n",
        "\n",
        "  if i % 100 == 0:\n",
        "    print(\"Training loss:\", '{:.4e}'.format(loss.data), \"PINN loss:\", '{:.4e}'.format(physics_loss))"
      ],
      "metadata": {
        "id": "9VqaRaiNjvwY"
      },
      "execution_count": null,
      "outputs": []
    },
    {
      "cell_type": "code",
      "source": [],
      "metadata": {
        "id": "DyM5S_vwjvzu"
      },
      "execution_count": null,
      "outputs": []
    },
    {
      "cell_type": "code",
      "source": [],
      "metadata": {
        "id": "MDF7bA8ajv2j"
      },
      "execution_count": null,
      "outputs": []
    },
    {
      "cell_type": "code",
      "source": [
        "# Save trained models\n",
        "\n",
        "File = \"Cty_branch0.pth\"\n",
        "torch.save(cty_branch0.state_dict(), File)\n",
        "\n",
        "File = \"Cty_branch1.pth\"\n",
        "torch.save(cty_branch1.state_dict(), File)\n",
        "\n",
        "File = \"Cty_trunk.pth\"\n",
        "torch.save(cty_trunk.state_dict(), File)\n",
        "\n",
        "File = \"HJ_branch0.pth\"\n",
        "torch.save(HJ_branch0.state_dict(), File)\n",
        "\n",
        "File = \"HJ_branch1.pth\"\n",
        "torch.save(HJ_branch1.state_dict(), File)\n",
        "\n",
        "File = \"HJ_trunk.pth\"\n",
        "torch.save(HJ_trunk.state_dict(), File)"
      ],
      "metadata": {
        "id": "gQ3nDqw_jv6V"
      },
      "execution_count": null,
      "outputs": []
    },
    {
      "cell_type": "code",
      "source": [],
      "metadata": {
        "id": "7NkwrE0xjv9w"
      },
      "execution_count": null,
      "outputs": []
    },
    {
      "cell_type": "code",
      "source": [],
      "metadata": {
        "id": "X8OmzSfztsmT"
      },
      "execution_count": null,
      "outputs": []
    },
    {
      "cell_type": "code",
      "source": [
        "# Get test results\n",
        "\n",
        "n = 24 # Base resolution mesh size\n",
        "x = np.linspace(x_min,x_max, n)\n",
        "y = np.linspace(y_min, y_max, n)\n",
        "X, Y = np.meshgrid(x, y)\n",
        "Omega = np.concatenate([X[:,:,None], Y[:,:,None]], axis=-1)\n",
        "\n",
        "# Create domain for high resolution data\n",
        "n_h = 40     # High resolution mesh size for super resolution\n",
        "x_h = np.linspace(x_min,x_max, n_h)\n",
        "y_h = np.linspace(y_min, y_max, n_h)\n",
        "X_h, Y_h = np.meshgrid(x_h, y_h)\n",
        "X_h_vec = torch.unsqueeze(Variable(torch.from_numpy(X_h.flatten()), requires_grad=True),1).to(device).to(torch.float32)\n",
        "Y_h_vec = torch.unsqueeze(Variable(torch.from_numpy(Y_h.flatten()), requires_grad=True),1).to(device).to(torch.float32)\n",
        "Omega_h = np.concatenate([X_h[:,:,None], Y_h[:,:,None]], axis=-1)"
      ],
      "metadata": {
        "id": "izrN5JdTtso1"
      },
      "execution_count": 51,
      "outputs": []
    },
    {
      "cell_type": "code",
      "source": [
        "values = np.linspace(0, 1, 10)\n",
        "turbo_cmap = plt.get_cmap('turbo')\n",
        "colors = [turbo_cmap(value) for value in values]"
      ],
      "metadata": {
        "id": "2IEzKVtNwarV"
      },
      "execution_count": 62,
      "outputs": []
    },
    {
      "cell_type": "code",
      "source": [
        "def heatmap2d_grid(U: np.ndarray):\n",
        "    cmap = LinearSegmentedColormap.from_list('Colormap', [colors[0], colors[0], colors[0], colors[1], colors[2], colors[3], colors[4], colors[5], colors[6], colors[7], colors[8], colors[9]])\n",
        "\n",
        "    # Plot the geodesics at the five times\n",
        "    fig, axes = plt.subplots(1, 5, figsize=(12, 2))\n",
        "\n",
        "    for i, ax in enumerate(axes):\n",
        "        ax.contourf(x_h, y_h, U[i, :, :], 15, cmap=cmap)\n",
        "        ax.set(xticklabels=[], yticklabels=[])\n",
        "        ax.tick_params(left=False, bottom=False)\n",
        "        ax.set_aspect('equal', adjustable='box')\n",
        "\n",
        "    plt.savefig('Pred_geodesic.png', dpi=350)\n",
        "\n",
        "    plt.xticks([])\n",
        "    plt.yticks([])\n",
        "\n",
        "    plt.show()"
      ],
      "metadata": {
        "id": "ECpt_oVwvPlH"
      },
      "execution_count": 52,
      "outputs": []
    },
    {
      "cell_type": "code",
      "source": [
        "K = 24 # number of total Gaussians in the mixture pair u0, u1\n",
        "\n",
        "# Create means and variances\n",
        "means = np.random.uniform(low=0.8, high=x_max-0.8, size=(K,2))\n",
        "variances_1 = np.random.uniform(low=0.35, high=0.4, size=(K,2))\n",
        "variances_2 = np.random.uniform(low=0.75, high=0.9, size=(K,2))\n",
        "covariances = np.random.uniform(low=-0.1, high=0.1, size=(K,2))\n",
        "Sigma = np.zeros(shape=(2,2,K))\n",
        "\n",
        "for i in np.arange(0,K,2):\n",
        "  Sigma[0,0,i] = variances_1[i,0]; Sigma[1,1,i] = variances_1[i,1]\n",
        "  Sigma[0,1,i] = covariances[i,0]; Sigma[1,0,i] = covariances[i,1]\n",
        "for i in np.arange(1,K+1,2):\n",
        "  Sigma[0,0,i] = variances_2[i,0]; Sigma[1,1,i] = variances_2[i,1]\n",
        "  Sigma[0,1,i] = covariances[i,0]; Sigma[1,0,i] = covariances[i,1]\n",
        "\n",
        "U0 = torch.zeros(size=(n,n))\n",
        "U1 = torch.zeros(size=(n,n))\n",
        "U0_h = torch.zeros(size=(n_h,n_h))\n",
        "U1_h = torch.zeros(size=(n_h,n_h))\n",
        "u0_test = torch.zeros(size=(1,n*n)).to(device)\n",
        "u1_test = torch.zeros(size=(1,n*n)).to(device)\n",
        "\n",
        "for i in range(int(K/2)):\n",
        "  U0 += multivariate_normal.pdf(Omega, mean=means[i,:], cov=Sigma[:,:,i])\n",
        "  U1 += multivariate_normal.pdf(Omega, mean=means[i+int(K/2),:], cov=Sigma[:,:,i+int(K/2)])\n",
        "\n",
        "  U0_h += multivariate_normal.pdf(Omega_h, mean=means[i,:], cov=Sigma[:,:,i])\n",
        "  U1_h += multivariate_normal.pdf(Omega_h, mean=means[i+int(K/2),:], cov=Sigma[:,:,i+int(K/2)])\n",
        "\n",
        "\n",
        "# Ensure normalized condition on neural network input\n",
        "U0 = U0 / ( torch.sum(U0) * ((x_max-x_min)/n)*((y_max-y_min)/n) )\n",
        "U1 = U1 / ( torch.sum(U1) * ((x_max-x_min)/n)*((y_max-y_min)/n) )\n",
        "\n",
        "# Ensure normalized condition on high resolution data\n",
        "U0_h = U0_h/ ( torch.sum(U0_h) * ((x_max-x_min)/n)*((y_max-y_min)/n) )\n",
        "U1_h = U1_h / ( torch.sum(U1_h) * ((x_max-x_min)/n)*((y_max-y_min)/n) )\n",
        "\n",
        "\n",
        "u0_test[0,:] = U0.flatten()\n",
        "u1_test[0,:] = U1.flatten()"
      ],
      "metadata": {
        "id": "OsXX9dyLuWk6"
      },
      "execution_count": 89,
      "outputs": []
    },
    {
      "cell_type": "code",
      "source": [
        "# Get visual results on test data\n",
        "T = 5\n",
        "u_test = torch.zeros(size=(T,n_h*n_h))\n",
        "u_test_reshape = torch.zeros(size=(T,n_h,n_h))\n",
        "\n",
        "cty_branch0_output_test = cty_branch0(u0_test[0,:])\n",
        "cty_branch1_output_test = cty_branch1(u1_test[0,:])\n",
        "for t in range(T):\n",
        "  T_test = (t/(T-1))*torch.ones(size=(n_h*n_h,1)).to(device)\n",
        "  cty_trunk_output_test = cty_trunk(X_h_vec, Y_h_vec, T_test)\n",
        "  u_test[t,:] = torch.sum( (cty_branch0_output_test * cty_branch1_output_test) * cty_trunk_output_test, dim=1)\n",
        "  u_test_reshape[t,:,:] = torch.reshape(u_test[t,:], (n_h,n_h))"
      ],
      "metadata": {
        "id": "O3xzAF-ijwD_"
      },
      "execution_count": 90,
      "outputs": []
    },
    {
      "cell_type": "code",
      "source": [
        "heatmap2d_grid(u_test_reshape[:,:,:].cpu().detach().numpy())"
      ],
      "metadata": {
        "colab": {
          "base_uri": "https://localhost:8080/",
          "height": 191
        },
        "id": "fH3rfBLDjwG3",
        "outputId": "14f018b7-933c-4ea1-a370-6bcbbc2d6c88"
      },
      "execution_count": 91,
      "outputs": [
        {
          "output_type": "display_data",
          "data": {
            "text/plain": [
              "<Figure size 1200x200 with 5 Axes>"
            ],
            "image/png": "[encoded data removed]"
          },
          "metadata": {}
        }
      ]
    },
    {
      "cell_type": "code",
      "source": [],
      "metadata": {
        "id": "oM0dy7-ajwKW"
      },
      "execution_count": null,
      "outputs": []
    },
    {
      "cell_type": "code",
      "source": [
        "# Get POT results\n",
        "\n",
        "# Input data for POT. Scale as necessary\n",
        "f1 = U0_h.cpu().detach().numpy(); f2 = U1_h.cpu().detach().numpy(); f3 = np.ones(shape=(n_h,n_h)); f4 = np.ones(shape=(n_h,n_h))\n",
        "f1 = ((n_h/5)**2)*f1 / np.sum(f1); f2 = ((n_h/5)**2)*f2 / np.sum(f2); f3 = ((n_h/5)**2)*f3 / np.sum(f3); f4 = ((n_h/5)**2)*f4 / np.sum(f4)\n",
        "\n",
        "# Additional input\n",
        "A = np.array([f1, f2, f3, f4])\n",
        "nb_images = 5\n",
        "v1 = np.array((1, 0, 0, 0)); v2 = np.array((0, 1, 0, 0)); v3 = np.array((0, 0, 1, 0)); v4 = np.array((0, 0, 0, 1))\n",
        "OT = np.zeros(shape=(nb_images,nb_images,n_h,n_h))\n",
        "\n",
        "\n",
        "reg = 0.004 # Regularization constant\n",
        "for i in range(nb_images):\n",
        "    for j in range(nb_images):\n",
        "        tx = float(i) / (nb_images - 1); ty = float(j) / (nb_images - 1)\n",
        "        tmp1 = (1 - tx) * v1 + tx * v2; tmp2 = (1 - tx) * v3 + tx * v4; weights = (1 - ty) * tmp1 + ty * tmp2\n",
        "\n",
        "        if i == 0 and j == 0:\n",
        "            OT[i,j,:,:] = f1\n",
        "        elif i == 0 and j == (nb_images - 1):\n",
        "            OT[i,j,:,:] = f3\n",
        "        elif i == (nb_images - 1) and j == 0:\n",
        "            OT[i,j,:,:] = f2\n",
        "        elif i == (nb_images - 1) and j == (nb_images - 1):\n",
        "            OT[i,j,:,:] = f4\n",
        "        else:\n",
        "            OT[i,j,:,:] = ot.bregman.convolutional_barycenter2d(A, reg, weights)"
      ],
      "metadata": {
        "id": "_-a3hZB2jwNf"
      },
      "execution_count": 92,
      "outputs": []
    },
    {
      "cell_type": "code",
      "source": [
        "heatmap2d_grid(OT[:,0,:,:])"
      ],
      "metadata": {
        "colab": {
          "base_uri": "https://localhost:8080/",
          "height": 191
        },
        "id": "aM6ldEy7jwQY",
        "outputId": "332d5d2d-b582-4d77-8cb7-5e311dee6f12"
      },
      "execution_count": 93,
      "outputs": [
        {
          "output_type": "display_data",
          "data": {
            "text/plain": [
              "<Figure size 1200x200 with 5 Axes>"
            ],
            "image/png": "[encoded data removed]"
          },
          "metadata": {}
        }
      ]
    },
    {
      "cell_type": "code",
      "source": [
        "heatmap2d_grid(u_test_reshape[:,:,:].cpu().detach().numpy())"
      ],
      "metadata": {
        "colab": {
          "base_uri": "https://localhost:8080/",
          "height": 191
        },
        "id": "gTeCYKtujwTn",
        "outputId": "d716edf1-d4e4-4e8f-bb58-0680f44028bf"
      },
      "execution_count": 94,
      "outputs": [
        {
          "output_type": "display_data",
          "data": {
            "text/plain": [
              "<Figure size 1200x200 with 5 Axes>"
            ],
            "image/png": "[encoded data removed]"
          },
          "metadata": {}
        }
      ]
    },
    {
      "cell_type": "code",
      "source": [],
      "metadata": {
        "id": "AyTgQN-5jwW7"
      },
      "execution_count": null,
      "outputs": []
    },
    {
      "cell_type": "code",
      "source": [],
      "metadata": {
        "id": "jP9GPVW0jwZw"
      },
      "execution_count": null,
      "outputs": []
    }
  ]
}